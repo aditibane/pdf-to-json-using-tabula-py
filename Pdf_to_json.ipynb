{
  "nbformat": 4,
  "nbformat_minor": 0,
  "metadata": {
    "colab": {
      "name": "Pdf to json.ipynb",
      "provenance": [],
      "authorship_tag": "ABX9TyMQSkdttFhEG0hzkHWlHjUd",
      "include_colab_link": true
    },
    "kernelspec": {
      "name": "python3",
      "display_name": "Python 3"
    }
  },
  "cells": [
    {
      "cell_type": "markdown",
      "metadata": {
        "id": "view-in-github",
        "colab_type": "text"
      },
      "source": [
        "<a href=\"https://colab.research.google.com/github/aditibane/pdf-to-json-using-tabula-py/blob/main/Pdf_to_json.ipynb\" target=\"_parent\"><img src=\"https://colab.research.google.com/assets/colab-badge.svg\" alt=\"Open In Colab\"/></a>"
      ]
    },
    {
      "cell_type": "markdown",
      "metadata": {
        "id": "y4BCBs-VyqAT"
      },
      "source": [
        "#Problem Statement: Create a script to convert the PDFs into a structured .json"
      ]
    },
    {
      "cell_type": "markdown",
      "metadata": {
        "id": "p1f6HEwVzz7d"
      },
      "source": [
        "Install the package tabula-py.\n",
        "\n",
        "tabula-py is a simple Python wrapper of tabula-java, which can read tables in a PDF. You can read tables from a PDF and convert them into a pandas DataFrame. tabula-py also enables you to convert a PDF file into a CSV, a TSV or a JSON file."
      ]
    },
    {
      "cell_type": "code",
      "metadata": {
        "id": "SFrQy6PJxibb",
        "outputId": "661ba27c-5a85-450f-b0cd-07d9ffc31c4b",
        "colab": {
          "base_uri": "https://localhost:8080/"
        }
      },
      "source": [
        "pip install tabula-py"
      ],
      "execution_count": 1,
      "outputs": [
        {
          "output_type": "stream",
          "text": [
            "Requirement already satisfied: tabula-py in /usr/local/lib/python3.6/dist-packages (2.2.0)\n",
            "Requirement already satisfied: distro in /usr/local/lib/python3.6/dist-packages (from tabula-py) (1.5.0)\n",
            "Requirement already satisfied: pandas>=0.25.3 in /usr/local/lib/python3.6/dist-packages (from tabula-py) (1.1.4)\n",
            "Requirement already satisfied: numpy in /usr/local/lib/python3.6/dist-packages (from tabula-py) (1.18.5)\n",
            "Requirement already satisfied: python-dateutil>=2.7.3 in /usr/local/lib/python3.6/dist-packages (from pandas>=0.25.3->tabula-py) (2.8.1)\n",
            "Requirement already satisfied: pytz>=2017.2 in /usr/local/lib/python3.6/dist-packages (from pandas>=0.25.3->tabula-py) (2018.9)\n",
            "Requirement already satisfied: six>=1.5 in /usr/local/lib/python3.6/dist-packages (from python-dateutil>=2.7.3->pandas>=0.25.3->tabula-py) (1.15.0)\n"
          ],
          "name": "stdout"
        }
      ]
    },
    {
      "cell_type": "markdown",
      "metadata": {
        "id": "wx4rKJ4nzdDp"
      },
      "source": [
        "Now, lets mount the drive where the PDFs are stored"
      ]
    },
    {
      "cell_type": "code",
      "metadata": {
        "id": "wo1nBrWU4qMc",
        "outputId": "d4331761-fa15-422f-9d5c-10fc13386f5a",
        "colab": {
          "base_uri": "https://localhost:8080/"
        }
      },
      "source": [
        "# Load the Drive helper and mount\n",
        "from google.colab import drive\n",
        "\n",
        "# This will prompt for authorization.\n",
        "drive.mount('/content/drive')"
      ],
      "execution_count": 2,
      "outputs": [
        {
          "output_type": "stream",
          "text": [
            "Drive already mounted at /content/drive; to attempt to forcibly remount, call drive.mount(\"/content/drive\", force_remount=True).\n"
          ],
          "name": "stdout"
        }
      ]
    },
    {
      "cell_type": "code",
      "metadata": {
        "id": "NSbXPOHH8v9B",
        "outputId": "e63f0812-8e7c-4541-cfb0-79608d815eab",
        "colab": {
          "base_uri": "https://localhost:8080/"
        }
      },
      "source": [
        "import tabula\n",
        "# read in the PDF file that contains the Data\n",
        "# read_pdf will save the pdf table into Pandas Dataframe\n",
        "df = tabula.read_pdf(\"/content/drive/My Drive/1.pdf\")\n",
        "# in order to print the lines of PDF\n",
        "df"
      ],
      "execution_count": 3,
      "outputs": [
        {
          "output_type": "stream",
          "text": [
            "'pages' argument isn't specified.Will extract only from page 1 by default.\n"
          ],
          "name": "stderr"
        },
        {
          "output_type": "execute_result",
          "data": {
            "text/plain": [
              "[                                          Definitions  ... Unnamed: 1\n",
              " 0                                                 NaN  ...        NaN\n",
              " 1                                                 NaN  ...        NaN\n",
              " 2                   Inspector-General of Registration  ...        NaN\n",
              " 3                                         [Repealed.]  ...        NaN\n",
              " 4                         Districts and sub-districts  ...        NaN\n",
              " 5                       Registrars and Sub-Registrars  ...        NaN\n",
              " 6              Offices of Registrar and Sub-Registrar  ...        NaN\n",
              " 7                   Inspectors of Registration office  ...        NaN\n",
              " 8                                         [Repealed.]  ...        NaN\n",
              " 9       Absence of Registrar or vacancy in his office  ...        NaN\n",
              " 10        Absence of Registrar on duty in his distric  ...        NaN\n",
              " 11  Absence of Sub-Registrar or vacancy in his office  ...        NaN\n",
              " 12  Report to State Government of appointments und...  ...        NaN\n",
              " 13             Establishments of registering officers  ...        NaN\n",
              " 14                       Seal of registering officers  ...        NaN\n",
              " 15                Register-books and fire-proof boxes  ...        NaN\n",
              " 16  6A. Keeping of books in computer floppies, dis...  ...        NaN\n",
              " 17                                                NaN  ...        NaN\n",
              " 18                                                NaN  ...        NaN\n",
              " 19      Documents of which registration is compulsory  ...        NaN\n",
              " 20        Documents of which registration is optional  ...        NaN\n",
              " 21  Documents in language not understood by regist...  ...        NaN\n",
              " 22  Documents containing interlineations, blanks, ...  ...        NaN\n",
              " 23                                                NaN  ...        NaN\n",
              " 24  Description of houses and land by reference to...  ...        NaN\n",
              " 25                                                NaN  ...        NaN\n",
              " 26                          F THE TIME OF PRESENTATIO  ...        NaN\n",
              " 27                                                  .  ...        NaN\n",
              " \n",
              " [28 rows x 3 columns], Empty DataFrame\n",
              " Columns: [Unnamed: 0]\n",
              " Index: [], Empty DataFrame\n",
              " Columns: [.]\n",
              " Index: [], Empty DataFrame\n",
              " Columns: [Unnamed: 0]\n",
              " Index: [], Empty DataFrame\n",
              " Columns: [Unnamed: 0]\n",
              " Index: [],                                           Unnamed: 0 Unnamed: 1\n",
              " 0                                                NaN     PART V\n",
              " 1                       OF THE PLACE OF REGISTRATION        NaN\n",
              " 2  Place for registering documents relating to land.        NaN\n",
              " 3                                                NaN        NaN]"
            ]
          },
          "metadata": {
            "tags": []
          },
          "execution_count": 3
        }
      ]
    },
    {
      "cell_type": "markdown",
      "metadata": {
        "id": "GrFOku2N0TeH"
      },
      "source": [
        "Running the following code to get the output into JSON Format"
      ]
    },
    {
      "cell_type": "code",
      "metadata": {
        "id": "2H6giNMkySA-",
        "outputId": "2ef74a40-3698-4c0d-8d36-60cf90c375a4",
        "colab": {
          "base_uri": "https://localhost:8080/"
        }
      },
      "source": [
        "tabula.read_pdf(\"/content/drive/My Drive/1.pdf\", output_format=\"json\")"
      ],
      "execution_count": 4,
      "outputs": [
        {
          "output_type": "stream",
          "text": [
            "'pages' argument isn't specified.Will extract only from page 1 by default.\n"
          ],
          "name": "stderr"
        },
        {
          "output_type": "execute_result",
          "data": {
            "text/plain": [
              "[{'bottom': 619.12,\n",
              "  'data': [[{'height': 14.20001220703125,\n",
              "     'left': 108.01996,\n",
              "     'text': 'Definitions',\n",
              "     'top': 209.29999,\n",
              "     'width': 49.56004333496094},\n",
              "    {'height': 0.0, 'left': 0.0, 'text': '', 'top': 0.0, 'width': 0.0},\n",
              "    {'height': 0.0, 'left': 0.0, 'text': '', 'top': 0.0, 'width': 0.0}],\n",
              "   [{'height': 13.312942504882812,\n",
              "     'left': 70.58299,\n",
              "     'text': '',\n",
              "     'top': 223.5,\n",
              "     'width': 214.96705627441406},\n",
              "    {'height': 13.312942504882812,\n",
              "     'left': 285.55005,\n",
              "     'text': 'PART II',\n",
              "     'top': 223.5,\n",
              "     'width': 40.839935302734375},\n",
              "    {'height': 13.312942504882812,\n",
              "     'left': 326.38998,\n",
              "     'text': '',\n",
              "     'top': 223.5,\n",
              "     'width': 215.05392456054688}],\n",
              "   [{'height': 12.597076416015625,\n",
              "     'left': 70.58299,\n",
              "     'text': '',\n",
              "     'top': 236.81294,\n",
              "     'width': 138.3870086669922},\n",
              "    {'height': 12.597076416015625,\n",
              "     'left': 208.97,\n",
              "     'text': 'OF THE REGISTRATION-ESTABLISHMENT',\n",
              "     'top': 236.81294,\n",
              "     'width': 193.97000122070312},\n",
              "    {'height': 12.597076416015625,\n",
              "     'left': 402.94,\n",
              "     'text': '',\n",
              "     'top': 236.81294,\n",
              "     'width': 138.50390625}],\n",
              "   [{'height': 13.559951782226562,\n",
              "     'left': 108.01996,\n",
              "     'text': 'Inspector-General of Registration',\n",
              "     'top': 249.41002,\n",
              "     'width': 149.72503662109375},\n",
              "    {'height': 0.0, 'left': 0.0, 'text': '', 'top': 0.0, 'width': 0.0},\n",
              "    {'height': 0.0, 'left': 0.0, 'text': '', 'top': 0.0, 'width': 0.0}],\n",
              "   [{'height': 14.58001708984375,\n",
              "     'left': 108.01996,\n",
              "     'text': '[Repealed.]',\n",
              "     'top': 262.96997,\n",
              "     'width': 53.78404235839844},\n",
              "    {'height': 0.0, 'left': 0.0, 'text': '', 'top': 0.0, 'width': 0.0},\n",
              "    {'height': 0.0, 'left': 0.0, 'text': '', 'top': 0.0, 'width': 0.0}],\n",
              "   [{'height': 14.52001953125,\n",
              "     'left': 108.01996,\n",
              "     'text': 'Districts and sub-districts',\n",
              "     'top': 277.55,\n",
              "     'width': 112.58004760742188},\n",
              "    {'height': 0.0, 'left': 0.0, 'text': '', 'top': 0.0, 'width': 0.0},\n",
              "    {'height': 0.0, 'left': 0.0, 'text': '', 'top': 0.0, 'width': 0.0}],\n",
              "   [{'height': 14.519927978515625,\n",
              "     'left': 108.01996,\n",
              "     'text': 'Registrars and Sub-Registrars',\n",
              "     'top': 292.07,\n",
              "     'width': 134.18002319335938},\n",
              "    {'height': 0.0, 'left': 0.0, 'text': '', 'top': 0.0, 'width': 0.0},\n",
              "    {'height': 0.0, 'left': 0.0, 'text': '', 'top': 0.0, 'width': 0.0}],\n",
              "   [{'height': 14.580047607421875,\n",
              "     'left': 108.01996,\n",
              "     'text': 'Offices of Registrar and Sub-Registrar',\n",
              "     'top': 306.58994,\n",
              "     'width': 172.61004638671875},\n",
              "    {'height': 0.0, 'left': 0.0, 'text': '', 'top': 0.0, 'width': 0.0},\n",
              "    {'height': 0.0, 'left': 0.0, 'text': '', 'top': 0.0, 'width': 0.0}],\n",
              "   [{'height': 14.58001708984375,\n",
              "     'left': 108.01996,\n",
              "     'text': 'Inspectors of Registration office',\n",
              "     'top': 321.16998,\n",
              "     'width': 146.24502563476562},\n",
              "    {'height': 0.0, 'left': 0.0, 'text': '', 'top': 0.0, 'width': 0.0},\n",
              "    {'height': 0.0, 'left': 0.0, 'text': '', 'top': 0.0, 'width': 0.0}],\n",
              "   [{'height': 14.52001953125,\n",
              "     'left': 108.01996,\n",
              "     'text': '[Repealed.]',\n",
              "     'top': 335.75,\n",
              "     'width': 53.78404235839844},\n",
              "    {'height': 0.0, 'left': 0.0, 'text': '', 'top': 0.0, 'width': 0.0},\n",
              "    {'height': 0.0, 'left': 0.0, 'text': '', 'top': 0.0, 'width': 0.0}],\n",
              "   [{'height': 14.519989013671875,\n",
              "     'left': 108.01996,\n",
              "     'text': 'Absence of Registrar or vacancy in his office',\n",
              "     'top': 350.27002,\n",
              "     'width': 199.01004028320312},\n",
              "    {'height': 0.0, 'left': 0.0, 'text': '', 'top': 0.0, 'width': 0.0},\n",
              "    {'height': 0.0, 'left': 0.0, 'text': '', 'top': 0.0, 'width': 0.0}],\n",
              "   [{'height': 14.52001953125,\n",
              "     'left': 108.01996,\n",
              "     'text': 'Absence of Registrar on duty in his distric',\n",
              "     'top': 364.79,\n",
              "     'width': 188.93008422851562},\n",
              "    {'height': 0.0, 'left': 0.0, 'text': '', 'top': 0.0, 'width': 0.0},\n",
              "    {'height': 0.0, 'left': 0.0, 'text': '', 'top': 0.0, 'width': 0.0}],\n",
              "   [{'height': 14.577972412109375,\n",
              "     'left': 108.01996,\n",
              "     'text': 'Absence of Sub-Registrar or vacancy in his office',\n",
              "     'top': 379.31003,\n",
              "     'width': 219.77005004882812},\n",
              "    {'height': 0.0, 'left': 0.0, 'text': '', 'top': 0.0, 'width': 0.0},\n",
              "    {'height': 0.0, 'left': 0.0, 'text': '', 'top': 0.0, 'width': 0.0}],\n",
              "   [{'height': 14.60198974609375,\n",
              "     'left': 108.01996,\n",
              "     'text': 'Report to State Government of appointments under sections 10, 11 and 12',\n",
              "     'top': 393.888,\n",
              "     'width': 326.47003173828125},\n",
              "    {'height': 0.0, 'left': 0.0, 'text': '', 'top': 0.0, 'width': 0.0},\n",
              "    {'height': 0.0, 'left': 0.0, 'text': '', 'top': 0.0, 'width': 0.0}],\n",
              "   [{'height': 14.52001953125,\n",
              "     'left': 108.01996,\n",
              "     'text': 'Establishments of registering officers',\n",
              "     'top': 408.49,\n",
              "     'width': 164.9300537109375},\n",
              "    {'height': 0.0, 'left': 0.0, 'text': '', 'top': 0.0, 'width': 0.0},\n",
              "    {'height': 0.0, 'left': 0.0, 'text': '', 'top': 0.0, 'width': 0.0}],\n",
              "   [{'height': 14.52001953125,\n",
              "     'left': 108.01996,\n",
              "     'text': 'Seal of registering officers',\n",
              "     'top': 423.01,\n",
              "     'width': 117.14004516601562},\n",
              "    {'height': 0.0, 'left': 0.0, 'text': '', 'top': 0.0, 'width': 0.0},\n",
              "    {'height': 0.0, 'left': 0.0, 'text': '', 'top': 0.0, 'width': 0.0}],\n",
              "   [{'height': 14.5799560546875,\n",
              "     'left': 108.01996,\n",
              "     'text': 'Register-books and fire-proof boxes',\n",
              "     'top': 437.53003,\n",
              "     'width': 159.26004028320312},\n",
              "    {'height': 0.0, 'left': 0.0, 'text': '', 'top': 0.0, 'width': 0.0},\n",
              "    {'height': 0.0, 'left': 0.0, 'text': '', 'top': 0.0, 'width': 0.0}],\n",
              "   [{'height': 14.960052490234375,\n",
              "     'left': 90.022995,\n",
              "     'text': '6A. Keeping of books in computer floppies, diskettes, etc',\n",
              "     'top': 452.11,\n",
              "     'width': 261.531005859375},\n",
              "    {'height': 0.0, 'left': 0.0, 'text': '', 'top': 0.0, 'width': 0.0},\n",
              "    {'height': 0.0, 'left': 0.0, 'text': '', 'top': 0.0, 'width': 0.0}],\n",
              "   [{'height': 13.27001953125,\n",
              "     'left': 70.58299,\n",
              "     'text': '',\n",
              "     'top': 467.07004,\n",
              "     'width': 214.96705627441406},\n",
              "    {'height': 13.27001953125,\n",
              "     'left': 285.55005,\n",
              "     'text': 'ART II',\n",
              "     'top': 467.07004,\n",
              "     'width': 40.839935302734375},\n",
              "    {'height': 13.27001953125,\n",
              "     'left': 326.38998,\n",
              "     'text': '',\n",
              "     'top': 467.07004,\n",
              "     'width': 215.05392456054688}],\n",
              "   [{'height': 12.649932861328125,\n",
              "     'left': 70.58299,\n",
              "     'text': '',\n",
              "     'top': 480.34006,\n",
              "     'width': 164.96702575683594},\n",
              "    {'height': 12.649932861328125,\n",
              "     'left': 235.55002,\n",
              "     'text': 'OR REGISTRABEL DOCUMENTS',\n",
              "     'top': 480.34006,\n",
              "     'width': 140.80996704101562},\n",
              "    {'height': 12.649932861328125,\n",
              "     'left': 376.36,\n",
              "     'text': '',\n",
              "     'top': 480.34006,\n",
              "     'width': 165.08392333984375}],\n",
              "   [{'height': 13.5400390625,\n",
              "     'left': 108.01996,\n",
              "     'text': 'Documents of which registration is compulsory',\n",
              "     'top': 492.99,\n",
              "     'width': 209.33004760742188},\n",
              "    {'height': 0.0, 'left': 0.0, 'text': '', 'top': 0.0, 'width': 0.0},\n",
              "    {'height': 0.0, 'left': 0.0, 'text': '', 'top': 0.0, 'width': 0.0}],\n",
              "   [{'height': 14.52001953125,\n",
              "     'left': 108.01996,\n",
              "     'text': 'Documents of which registration is optional',\n",
              "     'top': 506.53003,\n",
              "     'width': 193.61004638671875},\n",
              "    {'height': 0.0, 'left': 0.0, 'text': '', 'top': 0.0, 'width': 0.0},\n",
              "    {'height': 0.0, 'left': 0.0, 'text': '', 'top': 0.0, 'width': 0.0}],\n",
              "   [{'height': 14.51995849609375,\n",
              "     'left': 108.01996,\n",
              "     'text': 'Documents in language not understood by registering officer.',\n",
              "     'top': 521.05005,\n",
              "     'width': 270.7900390625},\n",
              "    {'height': 0.0, 'left': 0.0, 'text': '', 'top': 0.0, 'width': 0.0},\n",
              "    {'height': 0.0, 'left': 0.0, 'text': '', 'top': 0.0, 'width': 0.0}],\n",
              "   [{'height': 14.52001953125,\n",
              "     'left': 108.01996,\n",
              "     'text': 'Documents containing interlineations, blanks, erasures or alterations',\n",
              "     'top': 535.57,\n",
              "     'width': 304.030029296875},\n",
              "    {'height': 0.0, 'left': 0.0, 'text': '', 'top': 0.0, 'width': 0.0},\n",
              "    {'height': 0.0, 'left': 0.0, 'text': '', 'top': 0.0, 'width': 0.0}],\n",
              "   [{'height': 0.0, 'left': 0.0, 'text': '', 'top': 0.0, 'width': 0.0},\n",
              "    {'height': 14.5830078125,\n",
              "     'left': 293.95,\n",
              "     'text': '.',\n",
              "     'top': 550.09,\n",
              "     'width': 3.000030517578125},\n",
              "    {'height': 0.0, 'left': 0.0, 'text': '', 'top': 0.0, 'width': 0.0}],\n",
              "   [{'height': 14.60699462890625,\n",
              "     'left': 108.01996,\n",
              "     'text': 'Description of houses and land by reference to Government maps or surveys',\n",
              "     'top': 564.67303,\n",
              "     'width': 339.7900390625},\n",
              "    {'height': 0.0, 'left': 0.0, 'text': '', 'top': 0.0, 'width': 0.0},\n",
              "    {'height': 0.0, 'left': 0.0, 'text': '', 'top': 0.0, 'width': 0.0}],\n",
              "   [{'height': 0.0, 'left': 0.0, 'text': '', 'top': 0.0, 'width': 0.0},\n",
              "    {'height': 13.55999755859375,\n",
              "     'left': 285.55005,\n",
              "     'text': 'ART I',\n",
              "     'top': 579.28,\n",
              "     'width': 40.839935302734375},\n",
              "    {'height': 0.0, 'left': 0.0, 'text': '', 'top': 0.0, 'width': 0.0}],\n",
              "   [{'height': 12.6600341796875,\n",
              "     'left': 235.55002,\n",
              "     'text': 'F THE TIME OF PRESENTATIO',\n",
              "     'top': 592.84,\n",
              "     'width': 140.80996704101562},\n",
              "    {'height': 0.0, 'left': 0.0, 'text': '', 'top': 0.0, 'width': 0.0},\n",
              "    {'height': 0.0, 'left': 0.0, 'text': '', 'top': 0.0, 'width': 0.0}],\n",
              "   [{'height': 13.61993408203125,\n",
              "     'left': 245.93,\n",
              "     'text': '.',\n",
              "     'top': 605.50006,\n",
              "     'width': 3.480010986328125},\n",
              "    {'height': 0.0, 'left': 0.0, 'text': '', 'top': 0.0, 'width': 0.0},\n",
              "    {'height': 0.0, 'left': 0.0, 'text': '', 'top': 0.0, 'width': 0.0}]],\n",
              "  'extraction_method': 'lattice',\n",
              "  'height': 409.82000732421875,\n",
              "  'left': 70.58299,\n",
              "  'right': 541.4439,\n",
              "  'top': 209.29999,\n",
              "  'width': 470.86090087890625},\n",
              " {'bottom': 633.63995,\n",
              "  'data': [[{'height': 14.51995849609375,\n",
              "     'left': 275.65,\n",
              "     'text': '',\n",
              "     'top': 619.12,\n",
              "     'width': 2.58001708984375}]],\n",
              "  'extraction_method': 'lattice',\n",
              "  'height': 14.51995849609375,\n",
              "  'left': 275.65,\n",
              "  'right': 278.23,\n",
              "  'top': 619.12,\n",
              "  'width': 2.58001708984375},\n",
              " {'bottom': 648.16,\n",
              "  'data': [[{'height': 14.52001953125,\n",
              "     'left': 361.87,\n",
              "     'text': '.',\n",
              "     'top': 633.63995,\n",
              "     'width': 2.8800048828125}]],\n",
              "  'extraction_method': 'lattice',\n",
              "  'height': 14.52001953125,\n",
              "  'left': 361.87,\n",
              "  'right': 364.75,\n",
              "  'top': 633.63995,\n",
              "  'width': 2.8800048828125},\n",
              " {'bottom': 662.74005,\n",
              "  'data': [[{'height': 14.580078125,\n",
              "     'left': 340.99,\n",
              "     'text': '',\n",
              "     'top': 648.16,\n",
              "     'width': 2.52001953125}]],\n",
              "  'extraction_method': 'lattice',\n",
              "  'height': 14.580078125,\n",
              "  'left': 340.99,\n",
              "  'right': 343.51,\n",
              "  'top': 648.16,\n",
              "  'width': 2.52001953125},\n",
              " {'bottom': 677.32,\n",
              "  'data': [[{'height': 14.5799560546875,\n",
              "     'left': 254.26498,\n",
              "     'text': '',\n",
              "     'top': 662.74005,\n",
              "     'width': 3.480010986328125}]],\n",
              "  'extraction_method': 'lattice',\n",
              "  'height': 14.5799560546875,\n",
              "  'left': 254.26498,\n",
              "  'right': 257.745,\n",
              "  'top': 662.74005,\n",
              "  'width': 3.480010986328125},\n",
              " {'bottom': 745.44,\n",
              "  'data': [[{'height': 0.0, 'left': 0.0, 'text': '', 'top': 0.0, 'width': 0.0},\n",
              "    {'height': 14.52001953125,\n",
              "     'left': 319.93,\n",
              "     'text': '',\n",
              "     'top': 677.32,\n",
              "     'width': 2.82000732421875}],\n",
              "   [{'height': 0.0, 'left': 0.0, 'text': '', 'top': 0.0, 'width': 0.0},\n",
              "    {'height': 13.55999755859375,\n",
              "     'left': 304.63,\n",
              "     'text': 'PART V',\n",
              "     'top': 691.84,\n",
              "     'width': 38.8800048828125}],\n",
              "   [{'height': 12.6600341796875,\n",
              "     'left': 249.41,\n",
              "     'text': 'OF THE PLACE OF REGISTRATION',\n",
              "     'top': 705.4,\n",
              "     'width': 148.25},\n",
              "    {'height': 0.0, 'left': 0.0, 'text': '', 'top': 0.0, 'width': 0.0}],\n",
              "   [{'height': 13.61798095703125,\n",
              "     'left': 108.01996,\n",
              "     'text': 'Place for registering documents relating to land.',\n",
              "     'top': 718.06006,\n",
              "     'width': 211.9100341796875},\n",
              "    {'height': 0.0, 'left': 0.0, 'text': '', 'top': 0.0, 'width': 0.0}],\n",
              "   [{'height': 13.761962890625,\n",
              "     'left': 272.95,\n",
              "     'text': '',\n",
              "     'top': 731.67804,\n",
              "     'width': 2.699981689453125},\n",
              "    {'height': 0.0, 'left': 0.0, 'text': '', 'top': 0.0, 'width': 0.0}]],\n",
              "  'extraction_method': 'lattice',\n",
              "  'height': 68.1199951171875,\n",
              "  'left': 108.01996,\n",
              "  'right': 397.66,\n",
              "  'top': 677.32,\n",
              "  'width': 289.6400451660156}]"
            ]
          },
          "metadata": {
            "tags": []
          },
          "execution_count": 4
        }
      ]
    }
  ]
}